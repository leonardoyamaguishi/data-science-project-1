{
 "cells": [
  {
   "cell_type": "markdown",
   "id": "9d02048a",
   "metadata": {},
   "source": [
    "# Customer Centric analysis of Sales Performance\n",
    "\n",
    "### Objective:\n",
    "The objective of this notebook is to analyse how the Sales Performance of a seller is related to the experience of their clients. In this case, the Sales Performance is whether a seller has an above average monthly income or not. \n",
    "\n",
    "### How:\n",
    "The hypothesis is that the Sales Performance can be predicted by 4 features:\n",
    "* The ratio of shipments within Deadline informed to the client\n",
    "* The average star rating of the seller\n",
    "* If the seller offers products that belong to top selling categories \n",
    "* The population density of the region in which the seller is located\n"
   ]
  },
  {
   "cell_type": "markdown",
   "id": "38ac7f51",
   "metadata": {},
   "source": [
    "# Data Understanding and preparation\n",
    "\n",
    "The detailed description of the data under analysis can be accessed in the link below:\n",
    "\n",
    "https://www.kaggle.com/olistbr/brazilian-ecommerce"
   ]
  },
  {
   "cell_type": "code",
   "execution_count": 1,
   "id": "47365451",
   "metadata": {},
   "outputs": [],
   "source": [
    "#Importing libraries\n",
    "import sys\n",
    "import pandas as pd\n",
    "from datetime import datetime\n",
    "import matplotlib.pyplot as plt\n",
    "from matplotlib.pyplot import figure\n",
    "import math\n",
    "import numpy as np\n",
    "import random\n",
    "import seaborn as sns\n",
    "\n",
    "my_path_raw = '/Users/leonardoyamaguishi/Documents/Udacity/Data-Science/Project 1/data/raw/'\n",
    "my_path_processed = '/Users/leonardoyamaguishi/Documents/Udacity/Data-Science/Project 1/data/'"
   ]
  },
  {
   "cell_type": "code",
   "execution_count": 2,
   "id": "5bede5bf",
   "metadata": {},
   "outputs": [],
   "source": [
    "#Reading the data\n",
    "\n",
    "#Main Orders Dataset\n",
    "olist_orders_dataset = pd.read_csv(my_path_raw + 'olist_orders_dataset.csv')\n",
    "\n",
    "#Products that compose each order\n",
    "olist_order_items_dataset = pd.read_csv(my_path_raw + 'olist_order_items_dataset.csv')\n",
    "\n",
    "#Details from the Products, including seller_id\n",
    "olist_products_dataset = pd.read_csv(my_path_raw + 'olist_products_dataset.csv')\n",
    "\n",
    "#Details from the Sellers, including their geographic state\n",
    "olist_sellers_dataset = pd.read_csv(my_path_raw + 'olist_sellers_dataset.csv')\n",
    "\n",
    "#Reviews from orders\n",
    "olist_order_reviews_dataset = pd.read_csv(my_path_raw + 'olist_order_reviews_dataset.csv')\n",
    "\n",
    "#Revenue data\n",
    "revenue_data = pd.read_csv(my_path_processed + 'revenue_per_seller.csv')\n",
    "\n",
    "#Processed data for the model\n",
    "modelling_df = pd.read_csv(my_path_processed + 'modelling_df.csv')"
   ]
  },
  {
   "cell_type": "markdown",
   "id": "c517bdb6",
   "metadata": {},
   "source": [
    "### Important Key Values for the proposed analysis:"
   ]
  },
  {
   "cell_type": "code",
   "execution_count": 3,
   "id": "4fd6fdd7",
   "metadata": {},
   "outputs": [
    {
     "data": {
      "text/plain": [
       "True"
      ]
     },
     "execution_count": 3,
     "metadata": {},
     "output_type": "execute_result"
    }
   ],
   "source": [
    "#The order_ids are unique and not repeated in the olist_orders_dataset\n",
    "list1 = olist_orders_dataset['order_id'].sort_values().to_list()\n",
    "list2 = sorted(list(set(olist_orders_dataset['order_id'])))\n",
    "\n",
    "list1 == list2\n",
    "#As this is a table with single order_id values, it can be used as an order lookup table\n",
    "#The key value would be the order_id with a one to many correspondence"
   ]
  },
  {
   "cell_type": "code",
   "execution_count": 4,
   "id": "b2b52030",
   "metadata": {},
   "outputs": [],
   "source": [
    "#Function for date time handling\n",
    "def time_converter(df, time_str_column):\n",
    "    converted_time = []\n",
    "    new_column_name = 'conv_' + time_str_column   \n",
    "    \n",
    "    for time in df[time_str_column]:\n",
    "        converted_time.append(datetime.strptime(time, \"%Y-%m-%d %H:%M:%S\"))\n",
    "        \n",
    "    df = df.drop(time_str_column, axis = 1)\n",
    "    df[new_column_name] = converted_time\n",
    "    return df"
   ]
  },
  {
   "cell_type": "markdown",
   "id": "15e674c2",
   "metadata": {},
   "source": [
    "### Revenue Data Analysis and Business Questions"
   ]
  },
  {
   "cell_type": "code",
   "execution_count": 5,
   "id": "687a42a2",
   "metadata": {
    "scrolled": true
   },
   "outputs": [
    {
     "data": {
      "text/html": [
       "<div>\n",
       "<style scoped>\n",
       "    .dataframe tbody tr th:only-of-type {\n",
       "        vertical-align: middle;\n",
       "    }\n",
       "\n",
       "    .dataframe tbody tr th {\n",
       "        vertical-align: top;\n",
       "    }\n",
       "\n",
       "    .dataframe thead th {\n",
       "        text-align: right;\n",
       "    }\n",
       "</style>\n",
       "<table border=\"1\" class=\"dataframe\">\n",
       "  <thead>\n",
       "    <tr style=\"text-align: right;\">\n",
       "      <th></th>\n",
       "      <th>seller_id</th>\n",
       "      <th>total_revenue</th>\n",
       "      <th>first_sell_date</th>\n",
       "      <th>total_months</th>\n",
       "      <th>average_monthly_revenue</th>\n",
       "      <th>above_average</th>\n",
       "    </tr>\n",
       "  </thead>\n",
       "  <tbody>\n",
       "    <tr>\n",
       "      <th>0</th>\n",
       "      <td>0015a82c2db000af6aaaf3ae2ecb0532</td>\n",
       "      <td>2685.00</td>\n",
       "      <td>2017-09-26 22:17:05</td>\n",
       "      <td>12</td>\n",
       "      <td>223.750000</td>\n",
       "      <td>False</td>\n",
       "    </tr>\n",
       "    <tr>\n",
       "      <th>1</th>\n",
       "      <td>001cca7ae9ae17fb1caed9dfb1094831</td>\n",
       "      <td>24487.03</td>\n",
       "      <td>2017-02-04 19:06:04</td>\n",
       "      <td>19</td>\n",
       "      <td>1288.791053</td>\n",
       "      <td>True</td>\n",
       "    </tr>\n",
       "    <tr>\n",
       "      <th>2</th>\n",
       "      <td>002100f778ceb8431b7a1020ff7ab48f</td>\n",
       "      <td>1216.60</td>\n",
       "      <td>2017-09-14 01:00:31</td>\n",
       "      <td>12</td>\n",
       "      <td>101.383333</td>\n",
       "      <td>False</td>\n",
       "    </tr>\n",
       "    <tr>\n",
       "      <th>3</th>\n",
       "      <td>003554e2dce176b5555353e4f3555ac8</td>\n",
       "      <td>120.00</td>\n",
       "      <td>2017-12-15 06:52:25</td>\n",
       "      <td>9</td>\n",
       "      <td>13.333333</td>\n",
       "      <td>False</td>\n",
       "    </tr>\n",
       "    <tr>\n",
       "      <th>4</th>\n",
       "      <td>004c9cd9d87a3c30c522c48c4fc07416</td>\n",
       "      <td>19435.74</td>\n",
       "      <td>2017-01-27 10:34:34</td>\n",
       "      <td>20</td>\n",
       "      <td>971.787000</td>\n",
       "      <td>True</td>\n",
       "    </tr>\n",
       "    <tr>\n",
       "      <th>...</th>\n",
       "      <td>...</td>\n",
       "      <td>...</td>\n",
       "      <td>...</td>\n",
       "      <td>...</td>\n",
       "      <td>...</td>\n",
       "      <td>...</td>\n",
       "    </tr>\n",
       "    <tr>\n",
       "      <th>2965</th>\n",
       "      <td>ffc470761de7d0232558ba5e786e57b7</td>\n",
       "      <td>1529.13</td>\n",
       "      <td>2018-02-20 18:47:21</td>\n",
       "      <td>7</td>\n",
       "      <td>218.447143</td>\n",
       "      <td>False</td>\n",
       "    </tr>\n",
       "    <tr>\n",
       "      <th>2966</th>\n",
       "      <td>ffdd9f82b9a447f6f8d4b91554cc7dd3</td>\n",
       "      <td>2101.20</td>\n",
       "      <td>2017-03-05 16:21:27</td>\n",
       "      <td>19</td>\n",
       "      <td>110.589474</td>\n",
       "      <td>False</td>\n",
       "    </tr>\n",
       "    <tr>\n",
       "      <th>2967</th>\n",
       "      <td>ffeee66ac5d5a62fe688b9d26f83f534</td>\n",
       "      <td>1839.86</td>\n",
       "      <td>2017-09-30 15:56:56</td>\n",
       "      <td>12</td>\n",
       "      <td>153.321667</td>\n",
       "      <td>False</td>\n",
       "    </tr>\n",
       "    <tr>\n",
       "      <th>2968</th>\n",
       "      <td>fffd5413c0700ac820c7069d66d98c89</td>\n",
       "      <td>8535.00</td>\n",
       "      <td>2017-07-24 21:13:55</td>\n",
       "      <td>14</td>\n",
       "      <td>609.642857</td>\n",
       "      <td>True</td>\n",
       "    </tr>\n",
       "    <tr>\n",
       "      <th>2969</th>\n",
       "      <td>ffff564a4f9085cd26170f4732393726</td>\n",
       "      <td>359.00</td>\n",
       "      <td>2016-10-07 17:37:49</td>\n",
       "      <td>23</td>\n",
       "      <td>15.608696</td>\n",
       "      <td>False</td>\n",
       "    </tr>\n",
       "  </tbody>\n",
       "</table>\n",
       "<p>2970 rows × 6 columns</p>\n",
       "</div>"
      ],
      "text/plain": [
       "                             seller_id  total_revenue      first_sell_date  \\\n",
       "0     0015a82c2db000af6aaaf3ae2ecb0532        2685.00  2017-09-26 22:17:05   \n",
       "1     001cca7ae9ae17fb1caed9dfb1094831       24487.03  2017-02-04 19:06:04   \n",
       "2     002100f778ceb8431b7a1020ff7ab48f        1216.60  2017-09-14 01:00:31   \n",
       "3     003554e2dce176b5555353e4f3555ac8         120.00  2017-12-15 06:52:25   \n",
       "4     004c9cd9d87a3c30c522c48c4fc07416       19435.74  2017-01-27 10:34:34   \n",
       "...                                ...            ...                  ...   \n",
       "2965  ffc470761de7d0232558ba5e786e57b7        1529.13  2018-02-20 18:47:21   \n",
       "2966  ffdd9f82b9a447f6f8d4b91554cc7dd3        2101.20  2017-03-05 16:21:27   \n",
       "2967  ffeee66ac5d5a62fe688b9d26f83f534        1839.86  2017-09-30 15:56:56   \n",
       "2968  fffd5413c0700ac820c7069d66d98c89        8535.00  2017-07-24 21:13:55   \n",
       "2969  ffff564a4f9085cd26170f4732393726         359.00  2016-10-07 17:37:49   \n",
       "\n",
       "      total_months  average_monthly_revenue  above_average  \n",
       "0               12               223.750000          False  \n",
       "1               19              1288.791053           True  \n",
       "2               12               101.383333          False  \n",
       "3                9                13.333333          False  \n",
       "4               20               971.787000           True  \n",
       "...            ...                      ...            ...  \n",
       "2965             7               218.447143          False  \n",
       "2966            19               110.589474          False  \n",
       "2967            12               153.321667          False  \n",
       "2968            14               609.642857           True  \n",
       "2969            23                15.608696          False  \n",
       "\n",
       "[2970 rows x 6 columns]"
      ]
     },
     "execution_count": 5,
     "metadata": {},
     "output_type": "execute_result"
    }
   ],
   "source": [
    "revenue_data"
   ]
  },
  {
   "cell_type": "markdown",
   "id": "50af2812",
   "metadata": {},
   "source": [
    "### Question 1: How is the average monthly revenue distributed between the sellers?\n",
    "The distribution of average monthly revenue is skewed with a significantly high standard deviation."
   ]
  },
  {
   "cell_type": "code",
   "execution_count": 6,
   "id": "8fdf361d",
   "metadata": {
    "scrolled": false
   },
   "outputs": [
    {
     "data": {
      "text/plain": [
       "count     2970.000000\n",
       "mean       400.249273\n",
       "std        995.820686\n",
       "min          0.361111\n",
       "25%         33.991403\n",
       "50%        124.751000\n",
       "75%        356.586364\n",
       "max      16764.649231\n",
       "Name: average_monthly_revenue, dtype: float64"
      ]
     },
     "execution_count": 6,
     "metadata": {},
     "output_type": "execute_result"
    }
   ],
   "source": [
    "revenue_data['average_monthly_revenue'].describe()"
   ]
  },
  {
   "cell_type": "code",
   "execution_count": 7,
   "id": "b41f5f34",
   "metadata": {
    "scrolled": true
   },
   "outputs": [
    {
     "data": {
      "text/plain": [
       "<AxesSubplot:xlabel='average_monthly_revenue', ylabel='Count'>"
      ]
     },
     "execution_count": 7,
     "metadata": {},
     "output_type": "execute_result"
    },
    {
     "data": {
      "image/png": "[encoded data removed]",
      "text/plain": [
       "<Figure size 576x576 with 1 Axes>"
      ]
     },
     "metadata": {
      "needs_background": "light"
     },
     "output_type": "display_data"
    }
   ],
   "source": [
    "fig = plt.figure(figsize = (8,8))\n",
    "sns.histplot(data = revenue_data['average_monthly_revenue'], binrange = (0, 2000))"
   ]
  },
  {
   "cell_type": "markdown",
   "id": "0189dd10",
   "metadata": {},
   "source": [
    "### Question 2: Is the Average Monthly Revenue higher for older sellers?\n",
    "No, as visualized in the Scatter Plot below and in the Spearman's correlation, this hypothesis isn't valid."
   ]
  },
  {
   "cell_type": "code",
   "execution_count": 8,
   "id": "5e3603d8",
   "metadata": {
    "scrolled": true
   },
   "outputs": [
    {
     "data": {
      "text/plain": [
       "<AxesSubplot:xlabel='total_months', ylabel='average_monthly_revenue'>"
      ]
     },
     "execution_count": 8,
     "metadata": {},
     "output_type": "execute_result"
    },
    {
     "data": {
      "image/png": "[encoded data removed]",
      "text/plain": [
       "<Figure size 576x576 with 1 Axes>"
      ]
     },
     "metadata": {
      "needs_background": "light"
     },
     "output_type": "display_data"
    }
   ],
   "source": [
    "fig = plt.figure(figsize = (8,8))\n",
    "sns.scatterplot(x = 'total_months', y = 'average_monthly_revenue', data = revenue_data, hue = 'above_average')\n",
    "# revenue_data.plot.scatter(x = ['total_months'], y = ['average_monthly_revenue'])"
   ]
  },
  {
   "cell_type": "code",
   "execution_count": 9,
   "id": "41778b7a",
   "metadata": {},
   "outputs": [
    {
     "data": {
      "text/html": [
       "<div>\n",
       "<style scoped>\n",
       "    .dataframe tbody tr th:only-of-type {\n",
       "        vertical-align: middle;\n",
       "    }\n",
       "\n",
       "    .dataframe tbody tr th {\n",
       "        vertical-align: top;\n",
       "    }\n",
       "\n",
       "    .dataframe thead th {\n",
       "        text-align: right;\n",
       "    }\n",
       "</style>\n",
       "<table border=\"1\" class=\"dataframe\">\n",
       "  <thead>\n",
       "    <tr style=\"text-align: right;\">\n",
       "      <th></th>\n",
       "      <th>total_months</th>\n",
       "      <th>average_monthly_revenue</th>\n",
       "    </tr>\n",
       "  </thead>\n",
       "  <tbody>\n",
       "    <tr>\n",
       "      <th>total_months</th>\n",
       "      <td>1.000000</td>\n",
       "      <td>-0.073016</td>\n",
       "    </tr>\n",
       "    <tr>\n",
       "      <th>average_monthly_revenue</th>\n",
       "      <td>-0.073016</td>\n",
       "      <td>1.000000</td>\n",
       "    </tr>\n",
       "  </tbody>\n",
       "</table>\n",
       "</div>"
      ],
      "text/plain": [
       "                         total_months  average_monthly_revenue\n",
       "total_months                 1.000000                -0.073016\n",
       "average_monthly_revenue     -0.073016                 1.000000"
      ]
     },
     "execution_count": 9,
     "metadata": {},
     "output_type": "execute_result"
    }
   ],
   "source": [
    "revenue_data[['total_months', 'average_monthly_revenue']].corr(method = 'spearman')"
   ]
  },
  {
   "cell_type": "markdown",
   "id": "1f995bbf",
   "metadata": {},
   "source": [
    "### Modelling DataFrame Analysis"
   ]
  },
  {
   "cell_type": "code",
   "execution_count": 10,
   "id": "e94b0315",
   "metadata": {
    "scrolled": true
   },
   "outputs": [
    {
     "data": {
      "text/html": [
       "<div>\n",
       "<style scoped>\n",
       "    .dataframe tbody tr th:only-of-type {\n",
       "        vertical-align: middle;\n",
       "    }\n",
       "\n",
       "    .dataframe tbody tr th {\n",
       "        vertical-align: top;\n",
       "    }\n",
       "\n",
       "    .dataframe thead th {\n",
       "        text-align: right;\n",
       "    }\n",
       "</style>\n",
       "<table border=\"1\" class=\"dataframe\">\n",
       "  <thead>\n",
       "    <tr style=\"text-align: right;\">\n",
       "      <th></th>\n",
       "      <th>Unnamed: 0</th>\n",
       "      <th>seller_id</th>\n",
       "      <th>within_expected_delivery_date</th>\n",
       "      <th>review_score</th>\n",
       "      <th>offer_trending_category</th>\n",
       "      <th>state_population_density</th>\n",
       "      <th>above_average</th>\n",
       "    </tr>\n",
       "  </thead>\n",
       "  <tbody>\n",
       "    <tr>\n",
       "      <th>0</th>\n",
       "      <td>0</td>\n",
       "      <td>0015a82c2db000af6aaaf3ae2ecb0532</td>\n",
       "      <td>1.000000</td>\n",
       "      <td>3.666667</td>\n",
       "      <td>0</td>\n",
       "      <td>166.25</td>\n",
       "      <td>False</td>\n",
       "    </tr>\n",
       "    <tr>\n",
       "      <th>1</th>\n",
       "      <td>1</td>\n",
       "      <td>001cca7ae9ae17fb1caed9dfb1094831</td>\n",
       "      <td>0.944444</td>\n",
       "      <td>3.935897</td>\n",
       "      <td>0</td>\n",
       "      <td>76.25</td>\n",
       "      <td>True</td>\n",
       "    </tr>\n",
       "    <tr>\n",
       "      <th>2</th>\n",
       "      <td>2</td>\n",
       "      <td>002100f778ceb8431b7a1020ff7ab48f</td>\n",
       "      <td>0.833333</td>\n",
       "      <td>4.037037</td>\n",
       "      <td>1</td>\n",
       "      <td>166.25</td>\n",
       "      <td>False</td>\n",
       "    </tr>\n",
       "    <tr>\n",
       "      <th>3</th>\n",
       "      <td>3</td>\n",
       "      <td>003554e2dce176b5555353e4f3555ac8</td>\n",
       "      <td>1.000000</td>\n",
       "      <td>5.000000</td>\n",
       "      <td>0</td>\n",
       "      <td>17.65</td>\n",
       "      <td>False</td>\n",
       "    </tr>\n",
       "    <tr>\n",
       "      <th>4</th>\n",
       "      <td>4</td>\n",
       "      <td>004c9cd9d87a3c30c522c48c4fc07416</td>\n",
       "      <td>0.922156</td>\n",
       "      <td>4.127976</td>\n",
       "      <td>1</td>\n",
       "      <td>166.25</td>\n",
       "      <td>True</td>\n",
       "    </tr>\n",
       "    <tr>\n",
       "      <th>...</th>\n",
       "      <td>...</td>\n",
       "      <td>...</td>\n",
       "      <td>...</td>\n",
       "      <td>...</td>\n",
       "      <td>...</td>\n",
       "      <td>...</td>\n",
       "      <td>...</td>\n",
       "    </tr>\n",
       "    <tr>\n",
       "      <th>2965</th>\n",
       "      <td>2965</td>\n",
       "      <td>ffc470761de7d0232558ba5e786e57b7</td>\n",
       "      <td>0.933333</td>\n",
       "      <td>4.300000</td>\n",
       "      <td>1</td>\n",
       "      <td>166.25</td>\n",
       "      <td>False</td>\n",
       "    </tr>\n",
       "    <tr>\n",
       "      <th>2966</th>\n",
       "      <td>2966</td>\n",
       "      <td>ffdd9f82b9a447f6f8d4b91554cc7dd3</td>\n",
       "      <td>1.000000</td>\n",
       "      <td>4.250000</td>\n",
       "      <td>1</td>\n",
       "      <td>52.40</td>\n",
       "      <td>False</td>\n",
       "    </tr>\n",
       "    <tr>\n",
       "      <th>2967</th>\n",
       "      <td>2967</td>\n",
       "      <td>ffeee66ac5d5a62fe688b9d26f83f534</td>\n",
       "      <td>0.857143</td>\n",
       "      <td>4.214286</td>\n",
       "      <td>0</td>\n",
       "      <td>166.25</td>\n",
       "      <td>False</td>\n",
       "    </tr>\n",
       "    <tr>\n",
       "      <th>2968</th>\n",
       "      <td>2968</td>\n",
       "      <td>fffd5413c0700ac820c7069d66d98c89</td>\n",
       "      <td>0.862069</td>\n",
       "      <td>3.931034</td>\n",
       "      <td>1</td>\n",
       "      <td>166.25</td>\n",
       "      <td>True</td>\n",
       "    </tr>\n",
       "    <tr>\n",
       "      <th>2969</th>\n",
       "      <td>2969</td>\n",
       "      <td>ffff564a4f9085cd26170f4732393726</td>\n",
       "      <td>1.000000</td>\n",
       "      <td>3.250000</td>\n",
       "      <td>1</td>\n",
       "      <td>166.25</td>\n",
       "      <td>False</td>\n",
       "    </tr>\n",
       "  </tbody>\n",
       "</table>\n",
       "<p>2970 rows × 7 columns</p>\n",
       "</div>"
      ],
      "text/plain": [
       "      Unnamed: 0                         seller_id  \\\n",
       "0              0  0015a82c2db000af6aaaf3ae2ecb0532   \n",
       "1              1  001cca7ae9ae17fb1caed9dfb1094831   \n",
       "2              2  002100f778ceb8431b7a1020ff7ab48f   \n",
       "3              3  003554e2dce176b5555353e4f3555ac8   \n",
       "4              4  004c9cd9d87a3c30c522c48c4fc07416   \n",
       "...          ...                               ...   \n",
       "2965        2965  ffc470761de7d0232558ba5e786e57b7   \n",
       "2966        2966  ffdd9f82b9a447f6f8d4b91554cc7dd3   \n",
       "2967        2967  ffeee66ac5d5a62fe688b9d26f83f534   \n",
       "2968        2968  fffd5413c0700ac820c7069d66d98c89   \n",
       "2969        2969  ffff564a4f9085cd26170f4732393726   \n",
       "\n",
       "      within_expected_delivery_date  review_score  offer_trending_category  \\\n",
       "0                          1.000000      3.666667                        0   \n",
       "1                          0.944444      3.935897                        0   \n",
       "2                          0.833333      4.037037                        1   \n",
       "3                          1.000000      5.000000                        0   \n",
       "4                          0.922156      4.127976                        1   \n",
       "...                             ...           ...                      ...   \n",
       "2965                       0.933333      4.300000                        1   \n",
       "2966                       1.000000      4.250000                        1   \n",
       "2967                       0.857143      4.214286                        0   \n",
       "2968                       0.862069      3.931034                        1   \n",
       "2969                       1.000000      3.250000                        1   \n",
       "\n",
       "      state_population_density  above_average  \n",
       "0                       166.25          False  \n",
       "1                        76.25           True  \n",
       "2                       166.25          False  \n",
       "3                        17.65          False  \n",
       "4                       166.25           True  \n",
       "...                        ...            ...  \n",
       "2965                    166.25          False  \n",
       "2966                     52.40          False  \n",
       "2967                    166.25          False  \n",
       "2968                    166.25           True  \n",
       "2969                    166.25          False  \n",
       "\n",
       "[2970 rows x 7 columns]"
      ]
     },
     "execution_count": 10,
     "metadata": {},
     "output_type": "execute_result"
    }
   ],
   "source": [
    "modelling_df"
   ]
  },
  {
   "cell_type": "markdown",
   "id": "d9416e60",
   "metadata": {},
   "source": [
    "### Question 3: Is there a  correlation between delivering the products within the expected date and Average Monthly Revenue?\n",
    "Probably, however this correlation wouldn't be strong. The Histogram below indicates that sellers that deliver their products within the expected date tend to have average monthly revenues above the average of the platform."
   ]
  },
  {
   "cell_type": "code",
   "execution_count": 11,
   "id": "f0e3525b",
   "metadata": {
    "scrolled": true
   },
   "outputs": [
    {
     "data": {
      "text/plain": [
       "<AxesSubplot:xlabel='within_expected_delivery_date', ylabel='Count'>"
      ]
     },
     "execution_count": 11,
     "metadata": {},
     "output_type": "execute_result"
    },
    {
     "data": {
      "image/png": "[encoded data removed]",
      "text/plain": [
       "<Figure size 576x576 with 1 Axes>"
      ]
     },
     "metadata": {
      "needs_background": "light"
     },
     "output_type": "display_data"
    }
   ],
   "source": [
    "fig = plt.figure(figsize = (8,8))\n",
    "sns.histplot(data = modelling_df, x = 'within_expected_delivery_date', hue = 'above_average', hue_order = [False, True])"
   ]
  },
  {
   "cell_type": "markdown",
   "id": "00bc3e61",
   "metadata": {},
   "source": [
    "### Question 4: Is there a correlation between Average Review Score and Average Monthly Revenue?\n",
    "Yes, however this correlation also wouldn't be strong as indicated in the histogram below."
   ]
  },
  {
   "cell_type": "code",
   "execution_count": 12,
   "id": "730f230e",
   "metadata": {
    "scrolled": true
   },
   "outputs": [
    {
     "data": {
      "text/plain": [
       "<AxesSubplot:xlabel='review_score', ylabel='Count'>"
      ]
     },
     "execution_count": 12,
     "metadata": {},
     "output_type": "execute_result"
    },
    {
     "data": {
      "image/png": "[encoded data removed]",
      "text/plain": [
       "<Figure size 576x576 with 1 Axes>"
      ]
     },
     "metadata": {
      "needs_background": "light"
     },
     "output_type": "display_data"
    }
   ],
   "source": [
    "fig = plt.figure(figsize = (8,8))\n",
    "sns.histplot(data = modelling_df, x = 'review_score', hue = 'above_average', hue_order = [False, True])"
   ]
  },
  {
   "cell_type": "markdown",
   "id": "0915a9d7",
   "metadata": {},
   "source": [
    "### Question 5: Does offering products from top selling categories result in higher Average Monthly Revenues?\n",
    "As this metrics are correlated, yes. On the other hand, there are sellers with higher average monthly revenues that don't offer such products."
   ]
  },
  {
   "cell_type": "code",
   "execution_count": 13,
   "id": "2dd78184",
   "metadata": {
    "scrolled": true
   },
   "outputs": [
    {
     "data": {
      "text/plain": [
       "<AxesSubplot:xlabel='offer_trending_category', ylabel='Count'>"
      ]
     },
     "execution_count": 13,
     "metadata": {},
     "output_type": "execute_result"
    },
    {
     "data": {
      "image/png": "[encoded data removed]",
      "text/plain": [
       "<Figure size 576x576 with 1 Axes>"
      ]
     },
     "metadata": {
      "needs_background": "light"
     },
     "output_type": "display_data"
    }
   ],
   "source": [
    "fig = plt.figure(figsize = (8,8))\n",
    "sns.histplot(data = modelling_df, x = 'offer_trending_category', hue = 'above_average', hue_order = [False, True])"
   ]
  },
  {
   "cell_type": "markdown",
   "id": "95048466",
   "metadata": {},
   "source": [
    "### Question 6: Do sellers in states with higher population densities have higher revenues?\n",
    "Not necessarily, probably because this information isn't commonly considered by customers."
   ]
  },
  {
   "cell_type": "code",
   "execution_count": 14,
   "id": "c98d08e8",
   "metadata": {
    "scrolled": true
   },
   "outputs": [
    {
     "data": {
      "text/plain": [
       "<AxesSubplot:xlabel='state_population_density', ylabel='Count'>"
      ]
     },
     "execution_count": 14,
     "metadata": {},
     "output_type": "execute_result"
    },
    {
     "data": {
      "image/png": "[encoded data removed]",
      "text/plain": [
       "<Figure size 576x576 with 1 Axes>"
      ]
     },
     "metadata": {
      "needs_background": "light"
     },
     "output_type": "display_data"
    }
   ],
   "source": [
    "fig = plt.figure(figsize = (8,8))\n",
    "sns.histplot(data = modelling_df, x = 'state_population_density', hue = 'above_average', hue_order = [False, True])"
   ]
  },
  {
   "cell_type": "markdown",
   "id": "5b1584ff",
   "metadata": {},
   "source": [
    "### Brief visualization of the comments:"
   ]
  },
  {
   "cell_type": "code",
   "execution_count": 15,
   "id": "4458f53c",
   "metadata": {},
   "outputs": [
    {
     "name": "stdout",
     "output_type": "stream",
     "text": [
      "Recebi bem antes do prazo estipulado.\n",
      "Parabéns lojas lannister adorei comprar pela Internet seguro e prático Parabéns a todos feliz Páscoa\n",
      "aparelho eficiente. no site a marca do aparelho esta impresso como 3desinfector e ao chegar esta com outro nome...atualizar com a marca correta uma vez que é o mesmo aparelho\n",
      "Mas um pouco ,travando...pelo valor ta Boa.\r\n",
      "\n",
      "Vendedor confiável, produto ok e entrega antes do prazo.\n",
      "GOSTARIA DE SABER O QUE HOUVE, SEMPRE RECEBI E ESSA COMPRA AGORA ME DECPCIONOU\n",
      "Péssimo\n",
      "Loja nota 10\n",
      "obrigado pela atençao amim dispensada\n",
      "A compra foi realizada facilmente.\r\n",
      "A entrega foi efetuada muito antes do prazo dado.\r\n",
      "O produto já começou a ser usado e até o presente,\r\n",
      "sem problemas.\n",
      "relógio muito bonito e barato.\n",
      "Não gostei ! Comprei gato por lebre\n",
      "Sempre compro pela Internet e a entrega ocorre antes do prazo combinado, que acredito ser o prazo máximo. No stark o prazo máximo já se esgotou e ainda não recebi o produto.\n",
      "Recebi exatamente o que esperava. As demais encomendas de outros vendedores atrasaram, mas esta chegou no prazo.\n",
      "Recomendo ,\n",
      "muito boa \n",
      "Tô completamente apaixonada, loja super responsável e confiável!\n",
      "Nada de chegar o meu pedido.\n",
      "Muito bom. muito cheiroso.\n",
      "otimo vendedor chegou ate antes do prazo , adorei o produto\n",
      "Processo de compra tranquilo e eficiente.\n",
      "Tomara q dure pois é de pelinho.\n",
      "recebi somente 1 controle Midea Split ESTILO.\r\n",
      "Faltou Controle Remoto para Ar Condicionado Consul\n",
      "boa\n",
      "MT lindo\n",
      "Ocorreu tudo como contratado sendo a entrega realizada antes do prazo \r\n",
      " Estou satisfeita\r\n",
      "\n",
      "Amei achei lindo ,muito delicado adorei\n",
      "Ótima loja para parceria: rápidíssima, produtos bem embalados e de qualidade! Só o custo do frete que foi meio azedo.\n",
      "Recomendo o vendedor... \n",
      "O produto não chegou no prazo estipulado e causou transtorno, pq programei a viagem de férias do meu filho, baseado no prazo. Moro na Bahia e ele em Cuiabá sozinho. Agora, a casa está vazia. \n",
      "Produto entregue como solicitado, e com muita brevidade. Parabéns!\r\n",
      "\n",
      "Eu comprei duas unidades e só recebi uma e agora o que faço?\n",
      "Produto bom, porém o que veio para mim não condiz com a foto do anúncio.\n",
      "Produto muito inferior, mal acabado.\n",
      "O kit mochila patrulha canina é lindo!! Meu netinho vai amar!! Obrigada!!\n",
      "Maravilha \n",
      "Entrega no prazo\n",
      "Cumpriu o prometido na compra e com o uma entrega em tempo satisfatório \n",
      "Pedi reembolso e sem resposta até momento \n",
      "Super rápido.\n",
      "Satisfeito\r\n",
      "\n",
      "estao de parabens... sempre chega com muiiita antecedencia..\r\n",
      "\r\n",
      "Muito obrigada.... \n",
      "OK RECOMENDO\n",
      "Produto chegou, mas meu PC não conseguiu reconhecer as portas USB.\n",
      "Produto de muito boa qualidade, chegou antes do prazo prometido\n",
      "Este foi o pedido\r\n",
      "Balde Com 128 Peças - Blocos De Montar 2 un - R$ 25,00 cada (NÃO FOI ENTREGUE)\r\n",
      "Vendido e entregue targaryen\r\n",
      "Tapete de Eva Nº Letras 36 Peças Crianças 1 un - R$ 35,90 (ESTE FOI ENTREG\n",
      "Entrega muito rápida\r\n",
      "Parabéns\n",
      "comprei tres pacotes de cinco folhas cada de papel transfer para tecido escuro e so recebi dois\n",
      "Estava faltando apenas um produto, eu recebi hoje , muito obrigada!\r\n",
      "Tudo certo!\r\n",
      "\r\n",
      "Att \r\n",
      "\r\n",
      "Elenice.\n",
      "A bolsa térmica além de linda é super espaçosa . Produto de acordo com o anunciado e a entrega super rápida , entregou bem antes do prazo .\n",
      "Demorou de mais pra entrega \n",
      "super rapido a entrega .... chegou antes da data... \n",
      "A entrega foi dividida em duas. Não houve comunicado do loja. Cheguei a pensar que só haviam enviado parte do produto. \n",
      "Não funciona não faz sincronismo\n",
      "Recomendo a todos os clientes\n",
      "Gostei \n",
      "OTIMA\n",
      "Gostei muito do jogo de banho.A estampa florida, o bordado, tudo muito bonito. Ótimo produto.\n",
      "Chegou apenas uma peça, mas na nota e na garantia constam as duas joias.\n",
      "EU NÃO RECEBI O PRODUTO E CONSTA NO SISTEMA QUE EU RECEBI ALÉM DE PAGAR CARO DO FRETE \n",
      "Comprei o relógio, unissex e enviaram um relógio feminino, bem menor que as especificações do anúncio.\n",
      "Sempre compro na lannister.Pra mim é a melhor loja on-line\n",
      "Produto de qualidade excelente\n",
      "Ótimo custo-benefício\n",
      "OK\n",
      "Gostei da atenção com a entrega\n",
      " Se fosse vidro tinha quebrado; veio na caixa sem nenhuma proteção por dentro, a caixa estava muito amassada. Desculpe.. mas gosto de comprar de vcs\r\n",
      ".\n",
      "A peça não serviu\n",
      "Comprei o produto dia 25 de fevereiro e hoje dia 29 de marco não fora entregue na minha residência. Não sei se os correios desse Brasil e péssimo ou foi a própria loja que demorou postar.\n",
      "fiz minha compra faz 30 dias e não recebi ainda meu produto.\r\n",
      "Precisa melhorar nas entregas\n",
      "Espero receber esta semana, o que não seria tão extravagante, porém...mais atrazo do que isso me faria desistir do baratheon.\n",
      "Entregou no prazo certo, fiquei feliz com a compra que fiz\n",
      "Lindo relógio adorei\n",
      "Comprei dois lustres pendentes, com a parceira targaryen e só me enviaram um lustre. Abri reclamação, mas ainda não recebi resposta. Aguardo solução por parte de Lojas lannister.\n",
      "Muito bom alta qualidade!\n",
      "Produto bonito, entregue bem valado e dentro do prazo. Recomendo!\n",
      "Muito bom\n",
      "Faltou 1 produto e os que recebi 1 veio quebrado\n",
      "chegou dentro do prazo e o produto é de excelente qualidade! Acabou as dores nas costas, estou dormindo muito bem!\n",
      "aqui está descrevendo como entregue só que ate agora não recebi\n",
      "Acho que rastreando o produto devia ser melhor e mais preciso, mas no geral foi uma ótima experiência \n",
      "Ainda não tive a oportunidade de testar\n",
      "Comecei a usar agora \n",
      "nada a declarar\n",
      "Comprar um produto correto na capa mas interno ser outro.???????\r\n",
      "\n",
      "entrega super rapida\n",
      "Fiz um pedido de 4 garrafas de azeite.Chegaram 2 num dia e as outras 2 quase 48 horas depois.Contato com a loja muito dificil,tanto via e-mail qto por telef.O suspense terminou mas lá não compro mais\n",
      "O produto chegou muito rapido e de boa qualidade recomendo o produto\n",
      "Não posso! Estou aguardando a chegada do produto que comprei!Logo que isso aconteça, terei minha opinião formada!\n",
      "Comprei dois produtos e recebi somente um. Mandei dois emails para a loja e não tive nenhum retorno. Estou insatisfeita.\n",
      "Não recomendaria esta loja nem pretendo voltar a comprar nela.A mercadoria foi entregue após o prazo e quase 1 mês após a compra. No site das lannister costumam chegar antes do prazo. Estranhei muito\n",
      "Recomendo\n",
      "Atendeu minha expectativa.\n",
      "Entrega antes do prazo. Produto muito prático e de fácil manuseio. \n",
      "decepcionado\n",
      "otimo produto só nao veio manual, mas sem problemas.\n",
      "Uma das peças não encaixava, estava de diâmetro diferente. Eu tive que serrar e martelar para poder caber e encaixar.\r\n",
      "De resto, tudo ok.\n",
      "Excelente produto.\n",
      "Tudo certo\n",
      "Demora na entrega, detestei o atendimento e NUNCA mais compro. baratheon quando vendia por eles mesmos era bem melhor! \n"
     ]
    }
   ],
   "source": [
    "comments = olist_order_reviews_dataset['review_comment_message'].dropna()\n",
    "for comment in comments[0:100]:\n",
    "    print(comment)"
   ]
  }
 ],
 "metadata": {
  "kernelspec": {
   "display_name": "Python 3",
   "language": "python",
   "name": "python3"
  },
  "language_info": {
   "codemirror_mode": {
    "name": "ipython",
    "version": 3
   },
   "file_extension": ".py",
   "mimetype": "text/x-python",
   "name": "python",
   "nbconvert_exporter": "python",
   "pygments_lexer": "ipython3",
   "version": "3.9.1"
  }
 },
 "nbformat": 4,
 "nbformat_minor": 5
}
