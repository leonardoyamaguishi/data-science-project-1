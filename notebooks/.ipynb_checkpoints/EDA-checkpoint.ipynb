{
 "cells": [
  {
   "cell_type": "markdown",
   "id": "9d02048a",
   "metadata": {},
   "source": [
    "# Customer Centric analysis of Sales Performance\n",
    "\n",
    "### Objective:\n",
    "The objective of this notebook is to analyse how the Sales Performance of a seller is related to the experience of their clients. In this case, the Sales Performance is whether a seller has an above average monthly income or not. \n",
    "\n",
    "### How:\n",
    "The hypothesis is that the Sales Performance can be predicted by 4 features:\n",
    "* The ratio of shipments within Deadline informed to the client\n",
    "* The average star rating of the seller\n",
    "* If the seller offers products that belong to top selling categories \n",
    "* The population density of the region in which the seller is located\n"
   ]
  },
  {
   "cell_type": "markdown",
   "id": "38ac7f51",
   "metadata": {},
   "source": [
    "# Data Understanding and preparation\n",
    "\n",
    "The detailed description of the data under analysis can be accessed in the link below:\n",
    "\n",
    "https://www.kaggle.com/olistbr/brazilian-ecommerce"
   ]
  },
  {
   "cell_type": "code",
   "execution_count": 1,
   "id": "47365451",
   "metadata": {},
   "outputs": [],
   "source": [
    "#Importing libraries\n",
    "import sys\n",
    "import pandas as pd\n",
    "from datetime import datetime\n",
    "import matplotlib.pyplot as plt\n",
    "from matplotlib.pyplot import figure\n",
    "import math\n",
    "import numpy as np\n",
    "import random\n",
    "import seaborn as sns\n",
    "\n",
    "my_path_raw = '/Users/leonardoyamaguishi/Documents/Udacity/Data-Science/Project 1/data/raw'\n",
    "my_path_processed = '/Users/leonardoyamaguishi/Documents/Udacity/Data-Science/Project 1/data'"
   ]
  },
  {
   "cell_type": "code",
   "execution_count": 2,
   "id": "5bede5bf",
   "metadata": {},
   "outputs": [],
   "source": [
    "#Reading the data\n",
    "\n",
    "#Main Orders Dataset\n",
    "olist_orders_dataset = pd.read_csv(my_path_raw + 'olist_orders_dataset.csv')\n",
    "\n",
    "#Products that compose each order\n",
    "olist_order_items_dataset = pd.read_csv(my_path_raw + 'olist_order_items_dataset.csv')\n",
    "\n",
    "#Details from the Products, including seller_id\n",
    "olist_products_dataset = pd.read_csv(my_path_raw + 'olist_products_dataset.csv')\n",
    "\n",
    "#Details from the Sellers, including their geographic state\n",
    "olist_sellers_dataset = pd.read_csv(my_path_raw + 'olist_sellers_dataset.csv')\n",
    "\n",
    "#Reviews from orders\n",
    "olist_order_reviews_dataset = pd.read_csv(my_path_raw + 'olist_order_reviews_dataset.csv')\n",
    "\n",
    "#Revenue data\n",
    "revenue_data = pd.read_csv(my_path_processed + 'revenue_data.csv')\n",
    "\n",
    "#Processed data for the model\n",
    "modelling_df = pd.read_csv(my_path_processed + 'modelling_df.csv')"
   ]
  },
  {
   "cell_type": "markdown",
   "id": "c517bdb6",
   "metadata": {},
   "source": [
    "### Important Key Values for the proposed analysis:"
   ]
  },
  {
   "cell_type": "code",
   "execution_count": 3,
   "id": "4fd6fdd7",
   "metadata": {},
   "outputs": [
    {
     "data": {
      "text/plain": [
       "True"
      ]
     },
     "execution_count": 3,
     "metadata": {},
     "output_type": "execute_result"
    }
   ],
   "source": [
    "#The order_ids are unique and not repeated in the olist_orders_dataset\n",
    "list1 = olist_orders_dataset['order_id'].sort_values().to_list()\n",
    "list2 = sorted(list(set(olist_orders_dataset['order_id'])))\n",
    "\n",
    "list1 == list2\n",
    "#As this is a table with single order_id values, it can be used as an order lookup table\n",
    "#The key value would be the order_id with a one to many correspondence"
   ]
  },
  {
   "cell_type": "code",
   "execution_count": 4,
   "id": "b2b52030",
   "metadata": {},
   "outputs": [],
   "source": [
    "#Function for date time handling\n",
    "def time_converter(df, time_str_column):\n",
    "    converted_time = []\n",
    "    new_column_name = 'conv_' + time_str_column   \n",
    "    \n",
    "    for time in df[time_str_column]:\n",
    "        converted_time.append(datetime.strptime(time, \"%Y-%m-%d %H:%M:%S\"))\n",
    "        \n",
    "    df = df.drop(time_str_column, axis = 1)\n",
    "    df[new_column_name] = converted_time\n",
    "    return df"
   ]
  },
  {
   "cell_type": "markdown",
   "id": "15e674c2",
   "metadata": {},
   "source": [
    "### Revenue Data Analysis"
   ]
  },
  {
   "cell_type": "code",
   "execution_count": 5,
   "id": "687a42a2",
   "metadata": {
    "scrolled": true
   },
   "outputs": [
    {
     "data": {
      "text/html": [
       "<div>\n",
       "<style scoped>\n",
       "    .dataframe tbody tr th:only-of-type {\n",
       "        vertical-align: middle;\n",
       "    }\n",
       "\n",
       "    .dataframe tbody tr th {\n",
       "        vertical-align: top;\n",
       "    }\n",
       "\n",
       "    .dataframe thead th {\n",
       "        text-align: right;\n",
       "    }\n",
       "</style>\n",
       "<table border=\"1\" class=\"dataframe\">\n",
       "  <thead>\n",
       "    <tr style=\"text-align: right;\">\n",
       "      <th></th>\n",
       "      <th>seller_id</th>\n",
       "      <th>total_revenue</th>\n",
       "      <th>first_sell_date</th>\n",
       "      <th>total_months</th>\n",
       "      <th>average_monthly_revenue</th>\n",
       "      <th>above_average</th>\n",
       "    </tr>\n",
       "  </thead>\n",
       "  <tbody>\n",
       "    <tr>\n",
       "      <th>0</th>\n",
       "      <td>0015a82c2db000af6aaaf3ae2ecb0532</td>\n",
       "      <td>2685.00</td>\n",
       "      <td>2017-09-26 22:17:05</td>\n",
       "      <td>12</td>\n",
       "      <td>223.750000</td>\n",
       "      <td>False</td>\n",
       "    </tr>\n",
       "    <tr>\n",
       "      <th>1</th>\n",
       "      <td>001cca7ae9ae17fb1caed9dfb1094831</td>\n",
       "      <td>24487.03</td>\n",
       "      <td>2017-02-04 19:06:04</td>\n",
       "      <td>19</td>\n",
       "      <td>1288.791053</td>\n",
       "      <td>True</td>\n",
       "    </tr>\n",
       "    <tr>\n",
       "      <th>2</th>\n",
       "      <td>002100f778ceb8431b7a1020ff7ab48f</td>\n",
       "      <td>1216.60</td>\n",
       "      <td>2017-09-14 01:00:31</td>\n",
       "      <td>12</td>\n",
       "      <td>101.383333</td>\n",
       "      <td>False</td>\n",
       "    </tr>\n",
       "    <tr>\n",
       "      <th>3</th>\n",
       "      <td>003554e2dce176b5555353e4f3555ac8</td>\n",
       "      <td>120.00</td>\n",
       "      <td>2017-12-15 06:52:25</td>\n",
       "      <td>9</td>\n",
       "      <td>13.333333</td>\n",
       "      <td>False</td>\n",
       "    </tr>\n",
       "    <tr>\n",
       "      <th>4</th>\n",
       "      <td>004c9cd9d87a3c30c522c48c4fc07416</td>\n",
       "      <td>19435.74</td>\n",
       "      <td>2017-01-27 10:34:34</td>\n",
       "      <td>20</td>\n",
       "      <td>971.787000</td>\n",
       "      <td>True</td>\n",
       "    </tr>\n",
       "    <tr>\n",
       "      <th>...</th>\n",
       "      <td>...</td>\n",
       "      <td>...</td>\n",
       "      <td>...</td>\n",
       "      <td>...</td>\n",
       "      <td>...</td>\n",
       "      <td>...</td>\n",
       "    </tr>\n",
       "    <tr>\n",
       "      <th>2965</th>\n",
       "      <td>ffc470761de7d0232558ba5e786e57b7</td>\n",
       "      <td>1529.13</td>\n",
       "      <td>2018-02-20 18:47:21</td>\n",
       "      <td>7</td>\n",
       "      <td>218.447143</td>\n",
       "      <td>False</td>\n",
       "    </tr>\n",
       "    <tr>\n",
       "      <th>2966</th>\n",
       "      <td>ffdd9f82b9a447f6f8d4b91554cc7dd3</td>\n",
       "      <td>2101.20</td>\n",
       "      <td>2017-03-05 16:21:27</td>\n",
       "      <td>19</td>\n",
       "      <td>110.589474</td>\n",
       "      <td>False</td>\n",
       "    </tr>\n",
       "    <tr>\n",
       "      <th>2967</th>\n",
       "      <td>ffeee66ac5d5a62fe688b9d26f83f534</td>\n",
       "      <td>1839.86</td>\n",
       "      <td>2017-09-30 15:56:56</td>\n",
       "      <td>12</td>\n",
       "      <td>153.321667</td>\n",
       "      <td>False</td>\n",
       "    </tr>\n",
       "    <tr>\n",
       "      <th>2968</th>\n",
       "      <td>fffd5413c0700ac820c7069d66d98c89</td>\n",
       "      <td>8535.00</td>\n",
       "      <td>2017-07-24 21:13:55</td>\n",
       "      <td>14</td>\n",
       "      <td>609.642857</td>\n",
       "      <td>True</td>\n",
       "    </tr>\n",
       "    <tr>\n",
       "      <th>2969</th>\n",
       "      <td>ffff564a4f9085cd26170f4732393726</td>\n",
       "      <td>359.00</td>\n",
       "      <td>2016-10-07 17:37:49</td>\n",
       "      <td>23</td>\n",
       "      <td>15.608696</td>\n",
       "      <td>False</td>\n",
       "    </tr>\n",
       "  </tbody>\n",
       "</table>\n",
       "<p>2970 rows × 6 columns</p>\n",
       "</div>"
      ],
      "text/plain": [
       "                             seller_id  total_revenue      first_sell_date  \\\n",
       "0     0015a82c2db000af6aaaf3ae2ecb0532        2685.00  2017-09-26 22:17:05   \n",
       "1     001cca7ae9ae17fb1caed9dfb1094831       24487.03  2017-02-04 19:06:04   \n",
       "2     002100f778ceb8431b7a1020ff7ab48f        1216.60  2017-09-14 01:00:31   \n",
       "3     003554e2dce176b5555353e4f3555ac8         120.00  2017-12-15 06:52:25   \n",
       "4     004c9cd9d87a3c30c522c48c4fc07416       19435.74  2017-01-27 10:34:34   \n",
       "...                                ...            ...                  ...   \n",
       "2965  ffc470761de7d0232558ba5e786e57b7        1529.13  2018-02-20 18:47:21   \n",
       "2966  ffdd9f82b9a447f6f8d4b91554cc7dd3        2101.20  2017-03-05 16:21:27   \n",
       "2967  ffeee66ac5d5a62fe688b9d26f83f534        1839.86  2017-09-30 15:56:56   \n",
       "2968  fffd5413c0700ac820c7069d66d98c89        8535.00  2017-07-24 21:13:55   \n",
       "2969  ffff564a4f9085cd26170f4732393726         359.00  2016-10-07 17:37:49   \n",
       "\n",
       "      total_months  average_monthly_revenue  above_average  \n",
       "0               12               223.750000          False  \n",
       "1               19              1288.791053           True  \n",
       "2               12               101.383333          False  \n",
       "3                9                13.333333          False  \n",
       "4               20               971.787000           True  \n",
       "...            ...                      ...            ...  \n",
       "2965             7               218.447143          False  \n",
       "2966            19               110.589474          False  \n",
       "2967            12               153.321667          False  \n",
       "2968            14               609.642857           True  \n",
       "2969            23                15.608696          False  \n",
       "\n",
       "[2970 rows x 6 columns]"
      ]
     },
     "execution_count": 5,
     "metadata": {},
     "output_type": "execute_result"
    }
   ],
   "source": [
    "revenue_data"
   ]
  },
  {
   "cell_type": "code",
   "execution_count": 6,
   "id": "8fdf361d",
   "metadata": {
    "scrolled": true
   },
   "outputs": [
    {
     "data": {
      "text/plain": [
       "count     2970.000000\n",
       "mean       400.249273\n",
       "std        995.820686\n",
       "min          0.361111\n",
       "25%         33.991403\n",
       "50%        124.751000\n",
       "75%        356.586364\n",
       "max      16764.649231\n",
       "Name: average_monthly_revenue, dtype: float64"
      ]
     },
     "execution_count": 6,
     "metadata": {},
     "output_type": "execute_result"
    }
   ],
   "source": [
    "revenue_data['average_monthly_revenue'].describe()"
   ]
  },
  {
   "cell_type": "code",
   "execution_count": 7,
   "id": "b41f5f34",
   "metadata": {},
   "outputs": [
    {
     "data": {
      "text/plain": [
       "<AxesSubplot:xlabel='average_monthly_revenue', ylabel='Count'>"
      ]
     },
     "execution_count": 7,
     "metadata": {},
     "output_type": "execute_result"
    },
    {
     "data": {
      "image/png": "[encoded data removed]",
      "text/plain": [
       "<Figure size 576x576 with 1 Axes>"
      ]
     },
     "metadata": {
      "needs_background": "light"
     },
     "output_type": "display_data"
    }
   ],
   "source": [
    "fig = plt.figure(figsize = (8,8))\n",
    "sns.histplot(data = revenue_data['average_monthly_revenue'], binrange = (0, 2000))"
   ]
  },
  {
   "cell_type": "code",
   "execution_count": 8,
   "id": "5e3603d8",
   "metadata": {
    "scrolled": false
   },
   "outputs": [
    {
     "data": {
      "text/plain": [
       "<AxesSubplot:xlabel='total_months', ylabel='average_monthly_revenue'>"
      ]
     },
     "execution_count": 8,
     "metadata": {},
     "output_type": "execute_result"
    },
    {
     "data": {
      "image/png": "[encoded data removed]",
      "text/plain": [
       "<Figure size 576x576 with 1 Axes>"
      ]
     },
     "metadata": {
      "needs_background": "light"
     },
     "output_type": "display_data"
    }
   ],
   "source": [
    "fig = plt.figure(figsize = (8,8))\n",
    "sns.scatterplot(x = 'total_months', y = 'average_monthly_revenue', data = revenue_data, hue = 'above_average')\n",
    "# revenue_data.plot.scatter(x = ['total_months'], y = ['average_monthly_revenue'])"
   ]
  },
  {
   "cell_type": "markdown",
   "id": "1f995bbf",
   "metadata": {},
   "source": [
    "### Modelling DataFrame Analysis"
   ]
  },
  {
   "cell_type": "code",
   "execution_count": 10,
   "id": "e94b0315",
   "metadata": {},
   "outputs": [
    {
     "data": {
      "text/html": [
       "<div>\n",
       "<style scoped>\n",
       "    .dataframe tbody tr th:only-of-type {\n",
       "        vertical-align: middle;\n",
       "    }\n",
       "\n",
       "    .dataframe tbody tr th {\n",
       "        vertical-align: top;\n",
       "    }\n",
       "\n",
       "    .dataframe thead th {\n",
       "        text-align: right;\n",
       "    }\n",
       "</style>\n",
       "<table border=\"1\" class=\"dataframe\">\n",
       "  <thead>\n",
       "    <tr style=\"text-align: right;\">\n",
       "      <th></th>\n",
       "      <th>Unnamed: 0</th>\n",
       "      <th>seller_id</th>\n",
       "      <th>within_expected_delivery_date</th>\n",
       "      <th>review_score</th>\n",
       "      <th>offer_trending_category</th>\n",
       "      <th>state_population_density</th>\n",
       "      <th>above_average</th>\n",
       "    </tr>\n",
       "  </thead>\n",
       "  <tbody>\n",
       "    <tr>\n",
       "      <th>0</th>\n",
       "      <td>0</td>\n",
       "      <td>0015a82c2db000af6aaaf3ae2ecb0532</td>\n",
       "      <td>1.000000</td>\n",
       "      <td>3.666667</td>\n",
       "      <td>0</td>\n",
       "      <td>166.25</td>\n",
       "      <td>False</td>\n",
       "    </tr>\n",
       "    <tr>\n",
       "      <th>1</th>\n",
       "      <td>1</td>\n",
       "      <td>001cca7ae9ae17fb1caed9dfb1094831</td>\n",
       "      <td>0.944444</td>\n",
       "      <td>3.935897</td>\n",
       "      <td>0</td>\n",
       "      <td>76.25</td>\n",
       "      <td>True</td>\n",
       "    </tr>\n",
       "    <tr>\n",
       "      <th>2</th>\n",
       "      <td>2</td>\n",
       "      <td>002100f778ceb8431b7a1020ff7ab48f</td>\n",
       "      <td>0.833333</td>\n",
       "      <td>4.037037</td>\n",
       "      <td>1</td>\n",
       "      <td>166.25</td>\n",
       "      <td>False</td>\n",
       "    </tr>\n",
       "    <tr>\n",
       "      <th>3</th>\n",
       "      <td>3</td>\n",
       "      <td>003554e2dce176b5555353e4f3555ac8</td>\n",
       "      <td>1.000000</td>\n",
       "      <td>5.000000</td>\n",
       "      <td>0</td>\n",
       "      <td>17.65</td>\n",
       "      <td>False</td>\n",
       "    </tr>\n",
       "    <tr>\n",
       "      <th>4</th>\n",
       "      <td>4</td>\n",
       "      <td>004c9cd9d87a3c30c522c48c4fc07416</td>\n",
       "      <td>0.922156</td>\n",
       "      <td>4.127976</td>\n",
       "      <td>1</td>\n",
       "      <td>166.25</td>\n",
       "      <td>True</td>\n",
       "    </tr>\n",
       "    <tr>\n",
       "      <th>...</th>\n",
       "      <td>...</td>\n",
       "      <td>...</td>\n",
       "      <td>...</td>\n",
       "      <td>...</td>\n",
       "      <td>...</td>\n",
       "      <td>...</td>\n",
       "      <td>...</td>\n",
       "    </tr>\n",
       "    <tr>\n",
       "      <th>2965</th>\n",
       "      <td>2965</td>\n",
       "      <td>ffc470761de7d0232558ba5e786e57b7</td>\n",
       "      <td>0.933333</td>\n",
       "      <td>4.300000</td>\n",
       "      <td>1</td>\n",
       "      <td>166.25</td>\n",
       "      <td>False</td>\n",
       "    </tr>\n",
       "    <tr>\n",
       "      <th>2966</th>\n",
       "      <td>2966</td>\n",
       "      <td>ffdd9f82b9a447f6f8d4b91554cc7dd3</td>\n",
       "      <td>1.000000</td>\n",
       "      <td>4.250000</td>\n",
       "      <td>1</td>\n",
       "      <td>52.40</td>\n",
       "      <td>False</td>\n",
       "    </tr>\n",
       "    <tr>\n",
       "      <th>2967</th>\n",
       "      <td>2967</td>\n",
       "      <td>ffeee66ac5d5a62fe688b9d26f83f534</td>\n",
       "      <td>0.857143</td>\n",
       "      <td>4.214286</td>\n",
       "      <td>0</td>\n",
       "      <td>166.25</td>\n",
       "      <td>False</td>\n",
       "    </tr>\n",
       "    <tr>\n",
       "      <th>2968</th>\n",
       "      <td>2968</td>\n",
       "      <td>fffd5413c0700ac820c7069d66d98c89</td>\n",
       "      <td>0.862069</td>\n",
       "      <td>3.931034</td>\n",
       "      <td>1</td>\n",
       "      <td>166.25</td>\n",
       "      <td>True</td>\n",
       "    </tr>\n",
       "    <tr>\n",
       "      <th>2969</th>\n",
       "      <td>2969</td>\n",
       "      <td>ffff564a4f9085cd26170f4732393726</td>\n",
       "      <td>1.000000</td>\n",
       "      <td>3.250000</td>\n",
       "      <td>1</td>\n",
       "      <td>166.25</td>\n",
       "      <td>False</td>\n",
       "    </tr>\n",
       "  </tbody>\n",
       "</table>\n",
       "<p>2970 rows × 7 columns</p>\n",
       "</div>"
      ],
      "text/plain": [
       "      Unnamed: 0                         seller_id  \\\n",
       "0              0  0015a82c2db000af6aaaf3ae2ecb0532   \n",
       "1              1  001cca7ae9ae17fb1caed9dfb1094831   \n",
       "2              2  002100f778ceb8431b7a1020ff7ab48f   \n",
       "3              3  003554e2dce176b5555353e4f3555ac8   \n",
       "4              4  004c9cd9d87a3c30c522c48c4fc07416   \n",
       "...          ...                               ...   \n",
       "2965        2965  ffc470761de7d0232558ba5e786e57b7   \n",
       "2966        2966  ffdd9f82b9a447f6f8d4b91554cc7dd3   \n",
       "2967        2967  ffeee66ac5d5a62fe688b9d26f83f534   \n",
       "2968        2968  fffd5413c0700ac820c7069d66d98c89   \n",
       "2969        2969  ffff564a4f9085cd26170f4732393726   \n",
       "\n",
       "      within_expected_delivery_date  review_score  offer_trending_category  \\\n",
       "0                          1.000000      3.666667                        0   \n",
       "1                          0.944444      3.935897                        0   \n",
       "2                          0.833333      4.037037                        1   \n",
       "3                          1.000000      5.000000                        0   \n",
       "4                          0.922156      4.127976                        1   \n",
       "...                             ...           ...                      ...   \n",
       "2965                       0.933333      4.300000                        1   \n",
       "2966                       1.000000      4.250000                        1   \n",
       "2967                       0.857143      4.214286                        0   \n",
       "2968                       0.862069      3.931034                        1   \n",
       "2969                       1.000000      3.250000                        1   \n",
       "\n",
       "      state_population_density  above_average  \n",
       "0                       166.25          False  \n",
       "1                        76.25           True  \n",
       "2                       166.25          False  \n",
       "3                        17.65          False  \n",
       "4                       166.25           True  \n",
       "...                        ...            ...  \n",
       "2965                    166.25          False  \n",
       "2966                     52.40          False  \n",
       "2967                    166.25          False  \n",
       "2968                    166.25           True  \n",
       "2969                    166.25          False  \n",
       "\n",
       "[2970 rows x 7 columns]"
      ]
     },
     "execution_count": 10,
     "metadata": {},
     "output_type": "execute_result"
    }
   ],
   "source": [
    "modelling_df"
   ]
  },
  {
   "cell_type": "code",
   "execution_count": 11,
   "id": "f0e3525b",
   "metadata": {},
   "outputs": [
    {
     "data": {
      "image/png": "[encoded data removed]",
      "text/plain": [
       "<Figure size 432x432 with 1 Axes>"
      ]
     },
     "metadata": {
      "needs_background": "light"
     },
     "output_type": "display_data"
    }
   ],
   "source": [
    "fig = plt.figure(figsize = (6,6))\n",
    "sns.histplot(data = modelling_df, x = 'within_expected_delivery_date', hue = 'above_average', hue_order = [False, True])\n",
    "fig.savefig(sys.path[0] + '/EDA/within_expected_delivery_date.png')"
   ]
  },
  {
   "cell_type": "code",
   "execution_count": 12,
   "id": "730f230e",
   "metadata": {},
   "outputs": [
    {
     "data": {
      "image/png": "[encoded data removed]",
      "text/plain": [
       "<Figure size 432x432 with 1 Axes>"
      ]
     },
     "metadata": {
      "needs_background": "light"
     },
     "output_type": "display_data"
    }
   ],
   "source": [
    "fig = plt.figure(figsize = (6,6))\n",
    "sns.histplot(data = modelling_df, x = 'review_score', hue = 'above_average', hue_order = [False, True])\n",
    "fig.savefig(sys.path[0] + '/EDA/review_score.png')"
   ]
  },
  {
   "cell_type": "code",
   "execution_count": 13,
   "id": "2dd78184",
   "metadata": {},
   "outputs": [
    {
     "data": {
      "image/png": "[encoded data removed]",
      "text/plain": [
       "<Figure size 432x432 with 1 Axes>"
      ]
     },
     "metadata": {
      "needs_background": "light"
     },
     "output_type": "display_data"
    }
   ],
   "source": [
    "fig = plt.figure(figsize = (6,6))\n",
    "sns.histplot(data = modelling_df, x = 'offer_trending_category', hue = 'above_average', hue_order = [False, True])\n",
    "fig.savefig(sys.path[0] + '/EDA/offer_trending_category.png')"
   ]
  },
  {
   "cell_type": "code",
   "execution_count": 16,
   "id": "c98d08e8",
   "metadata": {},
   "outputs": [
    {
     "data": {
      "image/png": "[encoded data removed]",
      "text/plain": [
       "<Figure size 432x432 with 1 Axes>"
      ]
     },
     "metadata": {
      "needs_background": "light"
     },
     "output_type": "display_data"
    }
   ],
   "source": [
    "fig = plt.figure(figsize = (6,6))\n",
    "sns.histplot(data = modelling_df, x = 'state_population_density', hue = 'above_average', hue_order = [False, True])\n",
    "fig.savefig(sys.path[0] + '/EDA/state_population_density.png')"
   ]
  },
  {
   "cell_type": "code",
   "execution_count": 20,
   "id": "4458f53c",
   "metadata": {},
   "outputs": [
    {
     "name": "stdout",
     "output_type": "stream",
     "text": [
      "😡😡😡😡😡👎👎👎👎👎\r\n",
      "Empresa sem compromisso com o cliente\n",
      "😍😍👧💅 amei e chegou até antes do esperodo \n",
      "😆😆😆😆😆😆\n",
      "😆😆😆😆😆\n",
      "😃 ótimo 👍 \n",
      "😁😁😁😁😁🤗🤗🤗🤗🏇👏👏👏👏👏👏\n",
      "😀\n",
      "😀\n",
      "👏👏👏👏👏👍😁\n",
      "👏👏👏👏👏\n",
      "👏🏾👏🏾👏🏾👏🏾\n",
      "👎\n",
      "👍👍👍👍👍👍👍👍👏👏👏👏👏👏👏👏\n",
      "👍👍👍\n",
      "👍👍👍\n",
      "👍🏻👌🏻👏🏻\n",
      "👍🏻\n",
      "👍🏻\n",
      "👍🏻\n",
      "👍\n",
      "👍\n",
      "ótimos vendedores e confiáveis.\r\n",
      "quando precisar comprar, estarei sempre buscando essa forma segura e tranquila.. \n",
      "ótimos produtos \n",
      "ótimos preços e produto entregue corretamente e dentro do prazo\n",
      "ótimooo\n",
      "ótimo....\n",
      "ótimo.\n",
      "ótimo, fiquei muito satisfeito, obrigado\n",
      "ótimo, entregou antes da data prevista.\n",
      "ótimo, entrega antes do prazo.\n",
      "ótimo!!!\n",
      "ótimo! Lindo papel!\n",
      "ótimo!\n",
      "ótimo!\n",
      "ótimo!\n",
      "ótimo vendedor...produto entregue antes do prazo e sem avarias.\n",
      "ótimo vendedor.\n",
      "ótimo vendedor, entrega no prazo.\n",
      "ótimo vendedor recomendo a todos\n",
      "ótimo vendedor entregue no antes do prazo muito bom. Recomendo. \n",
      "ótimo vendedor até enviou o produto,mas os correios não entregou o produto e foi devolvido ao remetente.\n",
      "ótimo vendedor\n",
      "ótimo vendedor\n",
      "ótimo vendedor\n",
      "ótimo trabalho\n",
      "ótimo serviço.\n",
      "ótimo serviço, entrega antecipada e produto correto \n",
      "ótimo serviço e ótimo produto muito satisfeita!\n",
      "ótimo serviço\n",
      "ótimo relogio, a pulseira é super confortável.\n",
      "ótimo recebi no prazo\n",
      "ótimo produto. rápida entrega. Super recomendo.\n",
      "ótimo produto. MEU FILHO AMOUUU!!!\n",
      "ótimo produto. \n",
      "ótimo produto.\r\n",
      "chegou bem rápido .\r\n",
      "em menos de uma semana .\n",
      "ótimo produto.\r\n",
      "\n",
      "ótimo produto.\n",
      "ótimo produto.\n",
      "ótimo produto.\n",
      "ótimo produto,super confortável, do jeito que eu imaginava .... minha bebê amou\n",
      "ótimo produto,entrega no prazo.\n",
      "ótimo produto, ótimo atendimento, entrega..\n",
      "ótimo produto, superou minhas expectativas.\n",
      "ótimo produto, revendedor confiável. recomendo\n",
      "ótimo produto, recebi em uma semana.\n",
      "ótimo produto, primeira vez nesta loja, comprarei novamente e recomendo.obg\n",
      "ótimo produto, exatamente o que eu queria.\n",
      "ótimo produto, entregue ante do prazo.\n",
      "ótimo produto, entrega rápida.\n",
      "ótimo produto, entrega rápida,muito satisfeito\n",
      "ótimo produto, entrega no prazo, gosto muito de comprar pelo site lannister.com\n",
      "ótimo produto, dentro das expectativas\n",
      "ótimo produto, de qualidade, fácil instalação e com proteção de qualidade (IP67)\n",
      "ótimo produto, de qualidade, chegou antes do prazo!!!\n",
      "ótimo produto, combina com tudo! E chegou tudo certinho dentro do prazo.\n",
      "ótimo produto, chegou super bem\n",
      "ótimo produto, bom preço e a entrega , excelente como sempre. As lannister e seus parceiros são os melhores ! \n",
      "ótimo produto, bom acabamento. Para quem está começando nesse estudo sobre o universo, principalmente estudantes é uma ótima ferramenta. Tenho feito vários estudos com o auxilio do telescópio.\n",
      "ótimo produto, atendeu as minhas expectativas e recomendo, produto muito bom. \n",
      "ótimo produto, atendeu as exigências.\n",
      "ótimo produto, atende as necessidades. \n",
      "ótimo produto, alem da expectativa.Encaixa perfeitamente no mandril sds plus\n",
      "ótimo produto!\n",
      "ótimo produto superou minha expectativa recomendo o produto..........\n",
      "ótimo produto super indico.\n",
      "ótimo produto loja tudo muito ótimo.\n",
      "ótimo produto entregue antes do prazo\n",
      "ótimo produto entregue antes do prazo\n",
      "ótimo produto entrega no prazo recomendo\n",
      "ótimo produto e ótima loja para comprar pelo site, honestíssima. \n",
      "ótimo produto e ótima loja\n",
      "ótimo produto e qualidade.\n",
      "ótimo produto e no prazo certo. \n",
      "ótimo produto e entregue dentro do prazo estabelecido.\n",
      "ótimo produto e entregue dentro do prazo \n",
      "ótimo produto e entregue dentro do prazo\n",
      "ótimo produto e entrega super rápida.\n",
      "ótimo produto e entrega feita dentro do prazo.\r\n",
      "\n",
      "ótimo produto e chegou em perfeitas condições. nota 10.\n",
      "ótimo produto e a entrega foi bem antes do previsto. Parabéns\n"
     ]
    }
   ],
   "source": [
    "for comment in olist_order_reviews_dataset['review_comment_message'].sort_values(ascending = False)[0:100]:\n",
    "    print(comment)"
   ]
  },
  {
   "cell_type": "code",
   "execution_count": null,
   "id": "4f90425b",
   "metadata": {},
   "outputs": [],
   "source": []
  }
 ],
 "metadata": {
  "kernelspec": {
   "display_name": "Python 3",
   "language": "python",
   "name": "python3"
  },
  "language_info": {
   "codemirror_mode": {
    "name": "ipython",
    "version": 3
   },
   "file_extension": ".py",
   "mimetype": "text/x-python",
   "name": "python",
   "nbconvert_exporter": "python",
   "pygments_lexer": "ipython3",
   "version": "3.9.1"
  }
 },
 "nbformat": 4,
 "nbformat_minor": 5
}
